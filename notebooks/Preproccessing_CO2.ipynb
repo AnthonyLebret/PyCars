{
 "cells": [
  {
   "cell_type": "markdown",
   "id": "547a52ee",
   "metadata": {},
   "source": [
    "<hr style=\"border-width:2px;border-color:#75DFC1\">\n",
    "<center><h1>Projet Fil Rouge CO2</h1></center>\n",
    "<center><h2>Preprocessing</h2></center>\n",
    "<hr style=\"border-width:2px;border-color:#75DFC1\">\n",
    "\n",
    "Anthony et Isabelle - mentor Maxime\n",
    "\n",
    "Le but de ce projet est d'identifier les caractéristiques techniques des véhicules qui jouent un rôle dans l'émission de CO2 à partir d'une base de données produite par l'Agence européenne de l'environnement qui contient la liste des voitures particulières enregistrés en France pour l'année 2019.\n",
    "\n",
    "Ce document centralise les scripts du preprocessing commun aux deux approches, les étapes de préparation de données pour les modèles sont quant à elles rattachées aux scripts de modélisation.\n",
    "\n",
    "\n",
    "\n",
    "> La structure du notebook est la suivante : \n",
    ">> I - [Préparation du dataset](#preparation)\n",
    ">> \n",
    ">> Création du dataset “cars” (=> véhicules neufs acquis par au moins une personne en France en 2019) à partir du jeu de données source en supprimant les doublons sur un identifiant véhicule.\n",
    ">>\n",
    ">> II - [Supression de véhicules](#vehicules)\n",
    ">>\n",
    ">>\n",
    ">>  - véhicules sans mesure d’émissions de CO2 pour le protocole WLTP\n",
    ">>  - véhicules dont la variable Mh est codée “out of scope” et “duplicated”\n",
    ">>  - véhicules dont le carburant est dans la liste suivante : électricité, hydrogène, super-éthanol, gaz de pétrole liquéfié, au gaz naturel, mélange gaz-naturel et biométhane\n",
    ">>\n",
    ">> III - [Supression et recodage des variables](#items)\n",
    ">>\n",
    ">> - supression : consommation de fuel et autonomie des véhicules électriques, numéro d'homologation, identifiant de la famille d’interpolation, contrôles de simulation CO2MPAS, consommation d’énergie électrique, réduction des émissions de CO2 en lien avec une éco-innovation (variables qui concernent peu de véhicules)\n",
    ">> - recodage : éco-innovations, type de carburant, mode de carburation, mesures de largeur de voie, constructeur\n",
    ">>\n",
    ">> III - [Gestion des données manquantes](#NAN)\n",
    ">> - recodage du mode de carburation et de la puissance par les valeurs vraies\n",
    ">> - recodage des masses tests à partir d'une régression linéaire\n",
    "\n",
    "\n"
   ]
  },
  {
   "cell_type": "markdown",
   "id": "93e204c0",
   "metadata": {},
   "source": [
    "# Import des librairies"
   ]
  },
  {
   "cell_type": "code",
   "execution_count": 22,
   "id": "f68d87a4",
   "metadata": {},
   "outputs": [],
   "source": [
    "# import des librairies\n",
    "import pandas as pd\n",
    "import numpy as np\n",
    "import matplotlib.pyplot as plt\n",
    "\n",
    "from scipy.stats import pearsonr\n",
    "from sklearn.linear_model import LinearRegression\n",
    "\n",
    "path=r'C:/Users/ievrard/Documents/DataScientest/Data/Projet/'"
   ]
  },
  {
   "cell_type": "markdown",
   "id": "bed83468",
   "metadata": {},
   "source": [
    "## <a name=\"preparation\"></a> Préparation du dataset\n",
    "\n",
    "Spécification d'un véhicule : ensemble des entités référencées par un identifiant type-variant-version unique (TVV) et appartenant à une même famille d’interpolation de véhicule."
   ]
  },
  {
   "cell_type": "code",
   "execution_count": 23,
   "id": "9e5ea89e",
   "metadata": {},
   "outputs": [
    {
     "name": "stdout",
     "output_type": "stream",
     "text": [
      "Modalité de la variable 'year' : [2019]\n",
      "Modalité de la variable 'Status' : ['F']\n",
      "Modalité de la variable 'Country' : ['FR']\n",
      "Taille du fichier: 2 305 720 nouveaux véhicules immatriculés en France en 2019.\n"
     ]
    }
   ],
   "source": [
    "# lecture du fichier de véhicules immatriculés en France en 2019 (données extraite du site de l'AEE)\n",
    "parc = pd.read_csv(path+'data_FR2019.csv', index_col=0, dtype={'Cn': 'str', 'IT': 'str'})\n",
    "\n",
    "# supression des variables non renseignées en 2019\n",
    "parc = parc.drop(columns=['Date of registration', 'Fuel consumption ', 'Electric range (km)'])\n",
    "\n",
    "# Vérification des critères de requête\n",
    "print(\"Modalité de la variable 'year' :\", parc['year'].unique())\n",
    "print(\"Modalité de la variable 'Status' :\", parc['Status'].unique())\n",
    "print(\"Modalité de la variable 'Country' :\", parc['Country'].unique())\n",
    "# supression des critères de requête\n",
    "parc = parc.drop(columns=['year', 'Country', 'Status'])\n",
    "\n",
    "# Taille du fichier\n",
    "print(\"Taille du fichier:\", f\"{parc.shape[0]:,}\".replace(',', ' '), \"nouveaux véhicules immatriculés en France en 2019.\")"
   ]
  },
  {
   "cell_type": "code",
   "execution_count": 24,
   "id": "da37bce5",
   "metadata": {},
   "outputs": [
    {
     "name": "stdout",
     "output_type": "stream",
     "text": [
      "Taille du fichier: 16 975 véhicules uniques\n"
     ]
    }
   ],
   "source": [
    "# Création du fichier cars par élimination des doublons\n",
    "parc.sort_values(by=['T','Va','Ve','VFN'], ascending=False)\n",
    "cars = parc.drop_duplicates(subset=['T','Va','Ve','VFN'], keep = 'first', ignore_index=True)\n",
    "\n",
    "# décompte du nombre de véhicules (size)\n",
    "count = parc.groupby(['T','Va','Ve','VFN'],as_index=False, dropna=False,).size()\n",
    "cars = cars.merge(count, on=['T','Va','Ve','VFN'], how='inner')\n",
    "\n",
    "# Taille du fichier\n",
    "print(\"Taille du fichier:\", f\"{cars.shape[0]:,}\".replace(',', ' '), \"véhicules uniques\")"
   ]
  },
  {
   "cell_type": "code",
   "execution_count": 25,
   "id": "192952c2",
   "metadata": {},
   "outputs": [],
   "source": [
    "# renommer les variables en otant les unité de mesure\n",
    "dict_rename  = {'m (kg)': 'm',\n",
    "                'Enedc (g/km)': 'Enedc',\n",
    "                'Ewltp (g/km)':'Ewltp',\n",
    "                'W (mm)':'W',\n",
    "                'At1 (mm)':'At1',\n",
    "                'At2 (mm)':'At2',\n",
    "                'ec (cm3)':'ec',\n",
    "                'ep (KW)':'ep',\n",
    "                'Erwltp (g/km)':'Erwltp',\n",
    "                'Ernedc (g/km)':'Ernedc',\n",
    "                'z (Wh/km)':'z'\n",
    "               }\n",
    "cars = cars.rename(dict_rename,axis=1)"
   ]
  },
  {
   "cell_type": "markdown",
   "id": "bc4d1f80",
   "metadata": {},
   "source": [
    "### <a name=\"vehicules\"></a> Supression de véhicules\n"
   ]
  },
  {
   "cell_type": "code",
   "execution_count": 26,
   "id": "52089e85",
   "metadata": {},
   "outputs": [
    {
     "name": "stdout",
     "output_type": "stream",
     "text": [
      "3442 véhicules supprimés dont :\n",
      " - véhicules dupliqués ou hors champ: 82\n",
      " - véhicules hors protocole WLTP: 3147\n",
      " - véhicules mode de caburation trop peu fréquent ou sans émission: 213\n"
     ]
    }
   ],
   "source": [
    "# décompte des lignes supprimées\n",
    "crit_Mh = len(cars[cars['Mh'].map(lambda x: x=='OUT OF SCOPE' or x=='DUPLICATE')])\n",
    "crit_WLTP = cars['Ewltp'].isna().sum()\n",
    "crit_Ft = len(cars[cars['Ft'].map(lambda x: x in('electric', 'hydrogen', 'e85','lpg','ng','ng-biomethane'))])\n",
    "total = crit_Mh+crit_WLTP+crit_Ft\n",
    "print(total, 'véhicules supprimés dont :')\n",
    "print (' - véhicules dupliqués ou hors champ:', crit_Mh)\n",
    "print (' - véhicules hors protocole WLTP:', crit_WLTP)\n",
    "print (' - véhicules mode de caburation trop peu fréquent ou sans émission:', crit_Ft)\n",
    "\n"
   ]
  },
  {
   "cell_type": "code",
   "execution_count": 27,
   "id": "0e6e7a39",
   "metadata": {},
   "outputs": [
    {
     "name": "stdout",
     "output_type": "stream",
     "text": [
      "Nombre de véhicules final =  13571\n"
     ]
    }
   ],
   "source": [
    "## suppression des véhicules\n",
    "cars.drop(cars[\n",
    "    (cars['Ft'].isin(['electric','hydrogen','e85','lpg','ng','ng-biomethane'])) | \n",
    "    (cars['Ewltp'].isna()) | \n",
    "    (cars['Mh'].isin(['DUPLICATE','hydrogen']))\n",
    "].index, inplace = True )\n",
    "\n",
    "# display(cars.shape)\n",
    "print(\"Nombre de véhicules final = \", cars.shape[0])"
   ]
  },
  {
   "cell_type": "markdown",
   "id": "6487142f",
   "metadata": {},
   "source": [
    "### <a name=\"items\"></a> Supression et recodage de variables\n"
   ]
  },
  {
   "cell_type": "code",
   "execution_count": 28,
   "id": "2d7fc990",
   "metadata": {},
   "outputs": [],
   "source": [
    "# Supression\n",
    "list_var = ['Mk','Man','MMS','Tan','VFN','Erwltp','Ernedc','z', 'Vf', 'De']\n",
    "cars = cars.drop(list_var, axis=1)"
   ]
  },
  {
   "cell_type": "code",
   "execution_count": 29,
   "id": "b3c060e7",
   "metadata": {},
   "outputs": [
    {
     "name": "stdout",
     "output_type": "stream",
     "text": [
      "\n",
      "véhicules At1<At2\n"
     ]
    },
    {
     "data": {
      "text/plain": [
       "0    0.863533\n",
       "1    0.136467\n",
       "Name: At2supAt1, dtype: float64"
      ]
     },
     "metadata": {},
     "output_type": "display_data"
    }
   ],
   "source": [
    "# recodage éco-innovation en binaire\n",
    "cars['IT'] = (cars['IT'].notnull()).astype('int')\n",
    "\n",
    "# recodage constructeur hors pool\n",
    "cars['Mp'] = cars['Mp'].fillna('NON CONCERNE')\n",
    "\n",
    "# création de la variable AT1<AT2\n",
    "cars['At2supAt1'] = np.where(cars.At1<cars.At2, 1, 0)\n",
    "print('\\nvéhicules At1<At2')\n",
    "display(cars.At2supAt1.value_counts(normalize=True))\n",
    "\n",
    "# recodage des véhicules hybrides rechargeables\n",
    "cars['Ft'].replace(to_replace=['diesel/electric','petrol/electric'], value=['diesel','petrol'], inplace=True)\n",
    "\n",
    "# recodage varibale Fm\n",
    "cars['Fm'].replace(to_replace=['M','P','H'], value=['mono_fuel','OVC-HEV','NOVC-HEV'], inplace = True)\n",
    "\n",
    "# codage constructeurs\n",
    "cars['Mp'].replace(to_replace=['NON CONCERNE','HONDA MOTOR EUROPE LTD'], value='OTHER', inplace=True)\n",
    "cars['Mp'].replace(to_replace=['RENAULT','MITSUBISHI MOTORS'], value='RNM POOL', inplace=True)\n",
    "cars['Mp'].replace(to_replace=['TATA MOTORS JAGUAR LAND ROVER'], value='JLR', inplace=True)\n",
    "cars['Mp'].replace(to_replace=['VW GROUP PC'], value='VW GROUP', inplace=True)\n",
    "cars['Mp'].replace(to_replace=['FORD-WERKE GMBH'], value='FORD-WERKE', inplace=True)\n",
    "\n",
    "cars.loc[(cars['Mh'] == 'NISSAN'), 'Mp'] = 'RNM POOL'\n",
    "cars.Mp.value_counts()\n"
   ]
  },
  {
   "cell_type": "markdown",
   "id": "f0bfd73b",
   "metadata": {},
   "source": [
    "### <a name=\"NAN\"></a> Gestion des données manquantes\n"
   ]
  },
  {
   "cell_type": "code",
   "execution_count": 30,
   "id": "1a3a2e9e",
   "metadata": {},
   "outputs": [
    {
     "data": {
      "text/html": [
       "<div>\n",
       "<style scoped>\n",
       "    .dataframe tbody tr th:only-of-type {\n",
       "        vertical-align: middle;\n",
       "    }\n",
       "\n",
       "    .dataframe tbody tr th {\n",
       "        vertical-align: top;\n",
       "    }\n",
       "\n",
       "    .dataframe thead th {\n",
       "        text-align: right;\n",
       "    }\n",
       "</style>\n",
       "<table border=\"1\" class=\"dataframe\">\n",
       "  <thead>\n",
       "    <tr style=\"text-align: right;\">\n",
       "      <th></th>\n",
       "      <th>missing (n)</th>\n",
       "      <th>missing (%)</th>\n",
       "    </tr>\n",
       "  </thead>\n",
       "  <tbody>\n",
       "    <tr>\n",
       "      <th>Mt</th>\n",
       "      <td>697</td>\n",
       "      <td>5.14</td>\n",
       "    </tr>\n",
       "    <tr>\n",
       "      <th>Fm</th>\n",
       "      <td>8</td>\n",
       "      <td>0.06</td>\n",
       "    </tr>\n",
       "    <tr>\n",
       "      <th>ep</th>\n",
       "      <td>2</td>\n",
       "      <td>0.01</td>\n",
       "    </tr>\n",
       "  </tbody>\n",
       "</table>\n",
       "</div>"
      ],
      "text/plain": [
       "    missing (n)  missing (%)\n",
       "Mt          697         5.14\n",
       "Fm            8         0.06\n",
       "ep            2         0.01"
      ]
     },
     "metadata": {},
     "output_type": "display_data"
    }
   ],
   "source": [
    "# Données manquantes (%)\n",
    "df1 = pd.DataFrame(cars.isna().sum()).rename(columns = {0:'missing (n)'})\n",
    "df2 = pd.DataFrame(cars.isna().mean(axis = 0)*100).round(2).rename(columns = {0:'missing (%)'})\n",
    "\n",
    "NAN = pd.concat([df1, df2], axis=1).sort_values(by = ['missing (n)'], ascending=False)\n",
    "display(NAN[NAN['missing (n)']!=0])"
   ]
  },
  {
   "cell_type": "markdown",
   "id": "db033544",
   "metadata": {},
   "source": [
    " - Les données manquantes sont des \"non concernés\" pour l'item IT.\n",
    " - les véhicules dont le mode de carburation ou la puissance est inconnue peuvent être recodés grâce à leur nom commercial (recherche des informations sur les sites des constructeurs"
   ]
  },
  {
   "cell_type": "code",
   "execution_count": 31,
   "id": "0f438e53",
   "metadata": {},
   "outputs": [
    {
     "data": {
      "text/html": [
       "<div>\n",
       "<style scoped>\n",
       "    .dataframe tbody tr th:only-of-type {\n",
       "        vertical-align: middle;\n",
       "    }\n",
       "\n",
       "    .dataframe tbody tr th {\n",
       "        vertical-align: top;\n",
       "    }\n",
       "\n",
       "    .dataframe thead th {\n",
       "        text-align: right;\n",
       "    }\n",
       "</style>\n",
       "<table border=\"1\" class=\"dataframe\">\n",
       "  <thead>\n",
       "    <tr style=\"text-align: right;\">\n",
       "      <th></th>\n",
       "      <th>Mh</th>\n",
       "      <th>Cn</th>\n",
       "      <th>Fm</th>\n",
       "      <th>Ft</th>\n",
       "    </tr>\n",
       "  </thead>\n",
       "  <tbody>\n",
       "    <tr>\n",
       "      <th>8958</th>\n",
       "      <td>BMW AG</td>\n",
       "      <td>520d</td>\n",
       "      <td>NaN</td>\n",
       "      <td>unknown</td>\n",
       "    </tr>\n",
       "    <tr>\n",
       "      <th>8959</th>\n",
       "      <td>BMW AG</td>\n",
       "      <td>520d</td>\n",
       "      <td>NaN</td>\n",
       "      <td>unknown</td>\n",
       "    </tr>\n",
       "    <tr>\n",
       "      <th>8960</th>\n",
       "      <td>BMW AG</td>\n",
       "      <td>520d</td>\n",
       "      <td>NaN</td>\n",
       "      <td>unknown</td>\n",
       "    </tr>\n",
       "    <tr>\n",
       "      <th>8961</th>\n",
       "      <td>BMW AG</td>\n",
       "      <td>520d</td>\n",
       "      <td>NaN</td>\n",
       "      <td>unknown</td>\n",
       "    </tr>\n",
       "    <tr>\n",
       "      <th>9051</th>\n",
       "      <td>BMW AG</td>\n",
       "      <td>520d xDrive</td>\n",
       "      <td>NaN</td>\n",
       "      <td>unknown</td>\n",
       "    </tr>\n",
       "    <tr>\n",
       "      <th>9052</th>\n",
       "      <td>BMW AG</td>\n",
       "      <td>520d xDrive</td>\n",
       "      <td>NaN</td>\n",
       "      <td>unknown</td>\n",
       "    </tr>\n",
       "    <tr>\n",
       "      <th>9053</th>\n",
       "      <td>BMW AG</td>\n",
       "      <td>520d xDrive</td>\n",
       "      <td>NaN</td>\n",
       "      <td>unknown</td>\n",
       "    </tr>\n",
       "    <tr>\n",
       "      <th>9054</th>\n",
       "      <td>BMW AG</td>\n",
       "      <td>520d xDrive</td>\n",
       "      <td>NaN</td>\n",
       "      <td>unknown</td>\n",
       "    </tr>\n",
       "  </tbody>\n",
       "</table>\n",
       "</div>"
      ],
      "text/plain": [
       "          Mh           Cn   Fm       Ft\n",
       "8958  BMW AG         520d  NaN  unknown\n",
       "8959  BMW AG         520d  NaN  unknown\n",
       "8960  BMW AG         520d  NaN  unknown\n",
       "8961  BMW AG         520d  NaN  unknown\n",
       "9051  BMW AG  520d xDrive  NaN  unknown\n",
       "9052  BMW AG  520d xDrive  NaN  unknown\n",
       "9053  BMW AG  520d xDrive  NaN  unknown\n",
       "9054  BMW AG  520d xDrive  NaN  unknown"
      ]
     },
     "metadata": {},
     "output_type": "display_data"
    },
    {
     "data": {
      "text/html": [
       "<div>\n",
       "<style scoped>\n",
       "    .dataframe tbody tr th:only-of-type {\n",
       "        vertical-align: middle;\n",
       "    }\n",
       "\n",
       "    .dataframe tbody tr th {\n",
       "        vertical-align: top;\n",
       "    }\n",
       "\n",
       "    .dataframe thead th {\n",
       "        text-align: right;\n",
       "    }\n",
       "</style>\n",
       "<table border=\"1\" class=\"dataframe\">\n",
       "  <thead>\n",
       "    <tr style=\"text-align: right;\">\n",
       "      <th></th>\n",
       "      <th>Mh</th>\n",
       "      <th>Cn</th>\n",
       "      <th>ep</th>\n",
       "    </tr>\n",
       "  </thead>\n",
       "  <tbody>\n",
       "    <tr>\n",
       "      <th>9984</th>\n",
       "      <td>BMW AG</td>\n",
       "      <td>i3 94 REX</td>\n",
       "      <td>NaN</td>\n",
       "    </tr>\n",
       "    <tr>\n",
       "      <th>9987</th>\n",
       "      <td>BMW AG</td>\n",
       "      <td>i3s 94 REX</td>\n",
       "      <td>NaN</td>\n",
       "    </tr>\n",
       "  </tbody>\n",
       "</table>\n",
       "</div>"
      ],
      "text/plain": [
       "          Mh          Cn  ep\n",
       "9984  BMW AG   i3 94 REX NaN\n",
       "9987  BMW AG  i3s 94 REX NaN"
      ]
     },
     "metadata": {},
     "output_type": "display_data"
    }
   ],
   "source": [
    "# information sur les 8 véhicules sans mode de carburation\n",
    "display(cars[['Mh','Cn','Fm','Ft']][cars['Fm'].isna()==True])\n",
    "# information sur les 2 véhicules dont la puissance est inconnue\n",
    "display(cars[['Mh','Cn','ep']][cars['ep'].isna()==True])"
   ]
  },
  {
   "cell_type": "code",
   "execution_count": 32,
   "id": "863e51d0",
   "metadata": {},
   "outputs": [],
   "source": [
    "# recodage des données manquantes : valeurs vraies\n",
    "cars['ep'] = cars['ep'].fillna(170)\n",
    "\n",
    "list = cars[cars['Fm'].isna()==True].index\n",
    "cars.loc[list, 'Ft'] = 'diesel'\n",
    "cars.loc[list, 'Fm'] = 'mono_fuel'\n"
   ]
  },
  {
   "cell_type": "code",
   "execution_count": 33,
   "id": "9bdc47ab",
   "metadata": {},
   "outputs": [
    {
     "data": {
      "text/html": [
       "<div>\n",
       "<style scoped>\n",
       "    .dataframe tbody tr th:only-of-type {\n",
       "        vertical-align: middle;\n",
       "    }\n",
       "\n",
       "    .dataframe tbody tr th {\n",
       "        vertical-align: top;\n",
       "    }\n",
       "\n",
       "    .dataframe thead th {\n",
       "        text-align: right;\n",
       "    }\n",
       "</style>\n",
       "<table border=\"1\" class=\"dataframe\">\n",
       "  <thead>\n",
       "    <tr style=\"text-align: right;\">\n",
       "      <th></th>\n",
       "      <th>resultat_test</th>\n",
       "    </tr>\n",
       "  </thead>\n",
       "  <tbody>\n",
       "    <tr>\n",
       "      <th>pearson_coeff</th>\n",
       "      <td>0.984427</td>\n",
       "    </tr>\n",
       "    <tr>\n",
       "      <th>p-value</th>\n",
       "      <td>0.000000</td>\n",
       "    </tr>\n",
       "  </tbody>\n",
       "</table>\n",
       "</div>"
      ],
      "text/plain": [
       "               resultat_test\n",
       "pearson_coeff       0.984427\n",
       "p-value             0.000000"
      ]
     },
     "execution_count": 33,
     "metadata": {},
     "output_type": "execute_result"
    },
    {
     "data": {
      "image/png": "[encoded data removed]",
      "text/plain": [
       "<Figure size 500x500 with 1 Axes>"
      ]
     },
     "metadata": {},
     "output_type": "display_data"
    }
   ],
   "source": [
    "# recodage des données manquantes pour la masse avec une regression linéaire\n",
    "\n",
    "# séparation si données manquantes pour Mt\n",
    "cars_reg = cars[cars['Mt'].notna()]\n",
    "cars_imp = cars[cars['Mt'].isna()]\n",
    "\n",
    "# régression Mt = a + bm\n",
    "reg = LinearRegression()\n",
    "reg.fit(cars_reg[['m']],cars_reg['Mt'])\n",
    "slope = reg.coef_\n",
    "inter = reg.intercept_\n",
    "\n",
    "# corrélation entre les 2 différentes mesures de masse\n",
    "fig, ax = plt.subplots(figsize=(5,5))\n",
    "\n",
    "ax.scatter(cars['m'],cars['Mt'], s=2)\n",
    "ax.set_xlim([cars['m'].min(),3100])\n",
    "ax.set_ylim([cars['m'].min(),3100])\n",
    "\n",
    "ax.set_xlabel('masse en ordre de marche')\n",
    "ax.set_ylabel('masse test')\n",
    "\n",
    "plt.plot(cars['m'], inter + slope*cars['m'], '--r', alpha=0.5);\n",
    "\n",
    "pd.DataFrame(pearsonr(cars_reg['m'], cars_reg['Mt']), index=['pearson_coeff','p-value'], columns=['resultat_test'])\n"
   ]
  },
  {
   "cell_type": "code",
   "execution_count": 34,
   "id": "4fd28200",
   "metadata": {},
   "outputs": [],
   "source": [
    "# prédiction \n",
    "pred = pd.DataFrame(reg.predict(cars[['m']]).round(1), index=cars.index, columns=['pred_Mt'])\n",
    "cars['indicator'] = cars.Mt.isnull()\n",
    "\n",
    "# remplacement des données manquantes par la prédiction\n",
    "cars.Mt.fillna(pred.pred_Mt, inplace=True)\n"
   ]
  },
  {
   "cell_type": "code",
   "execution_count": 36,
   "id": "64d1a410",
   "metadata": {},
   "outputs": [],
   "source": [
    "# export des données après nettoyage\n",
    "cars.reset_index(inplace=True, drop=True)\n",
    "cars.to_csv(path+'cars_FR2019_clean.csv')\n",
    "cars.to_excel(path+'cars_FR2019_clean.xlsx', sheet_name='véhicules', index=False)"
   ]
  }
 ],
 "metadata": {
  "kernelspec": {
   "display_name": "Python 3 (ipykernel)",
   "language": "python",
   "name": "python3"
  },
  "language_info": {
   "codemirror_mode": {
    "name": "ipython",
    "version": 3
   },
   "file_extension": ".py",
   "mimetype": "text/x-python",
   "name": "python",
   "nbconvert_exporter": "python",
   "pygments_lexer": "ipython3",
   "version": "3.9.13"
  }
 },
 "nbformat": 4,
 "nbformat_minor": 5
}
